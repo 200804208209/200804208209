{
 "cells": [
  {
   "cell_type": "code",
   "execution_count": 14,
   "id": "2ab288f1",
   "metadata": {},
   "outputs": [
    {
     "data": {
      "text/html": [
       "<div>\n",
       "<style scoped>\n",
       "    .dataframe tbody tr th:only-of-type {\n",
       "        vertical-align: middle;\n",
       "    }\n",
       "\n",
       "    .dataframe tbody tr th {\n",
       "        vertical-align: top;\n",
       "    }\n",
       "\n",
       "    .dataframe thead th {\n",
       "        text-align: right;\n",
       "    }\n",
       "</style>\n",
       "<table border=\"1\" class=\"dataframe\">\n",
       "  <thead>\n",
       "    <tr style=\"text-align: right;\">\n",
       "      <th></th>\n",
       "      <th>POS</th>\n",
       "      <th>GP</th>\n",
       "      <th>MIN</th>\n",
       "      <th>PTS</th>\n",
       "    </tr>\n",
       "    <tr>\n",
       "      <th>NAME</th>\n",
       "      <th></th>\n",
       "      <th></th>\n",
       "      <th></th>\n",
       "      <th></th>\n",
       "    </tr>\n",
       "  </thead>\n",
       "  <tbody>\n",
       "    <tr>\n",
       "      <th>Andrew Nembhard</th>\n",
       "      <td>G</td>\n",
       "      <td>25</td>\n",
       "      <td>760</td>\n",
       "      <td>272</td>\n",
       "    </tr>\n",
       "    <tr>\n",
       "      <th>Anton Watson</th>\n",
       "      <td>F</td>\n",
       "      <td>25</td>\n",
       "      <td>448</td>\n",
       "      <td>206</td>\n",
       "    </tr>\n",
       "    <tr>\n",
       "      <th>Ben Gregg</th>\n",
       "      <td>F</td>\n",
       "      <td>16</td>\n",
       "      <td>104</td>\n",
       "      <td>40</td>\n",
       "    </tr>\n",
       "    <tr>\n",
       "      <th>Chet Holmgren</th>\n",
       "      <td>C</td>\n",
       "      <td>25</td>\n",
       "      <td>659</td>\n",
       "      <td>361</td>\n",
       "    </tr>\n",
       "    <tr>\n",
       "      <th>Drew Timme</th>\n",
       "      <td>F</td>\n",
       "      <td>25</td>\n",
       "      <td>675</td>\n",
       "      <td>450</td>\n",
       "    </tr>\n",
       "  </tbody>\n",
       "</table>\n",
       "</div>"
      ],
      "text/plain": [
       "                POS  GP  MIN  PTS\n",
       "NAME                             \n",
       "Andrew Nembhard   G  25  760  272\n",
       "Anton Watson      F  25  448  206\n",
       "Ben Gregg         F  16  104   40\n",
       "Chet Holmgren     C  25  659  361\n",
       "Drew Timme        F  25  675  450"
      ]
     },
     "execution_count": 14,
     "metadata": {},
     "output_type": "execute_result"
    }
   ],
   "source": [
    "#1.Create a CSV file called basketball.csv with the following data\n",
    "#2.Load this CSV file into a Pandas DataFrame\n",
    "import pandas as pd\n",
    "df=pd.read_csv(\"basketball.csv\",index_col=0)\n",
    "df.head()"
   ]
  },
  {
   "cell_type": "code",
   "execution_count": 16,
   "id": "f31ccca1",
   "metadata": {},
   "outputs": [
    {
     "ename": "SyntaxError",
     "evalue": "invalid syntax (2844451900.py, line 5)",
     "output_type": "error",
     "traceback": [
      "\u001b[1;36m  Input \u001b[1;32mIn [16]\u001b[1;36m\u001b[0m\n\u001b[1;33m    'PTS':1})\u001b[0m\n\u001b[1;37m    ^\u001b[0m\n\u001b[1;31mSyntaxError\u001b[0m\u001b[1;31m:\u001b[0m invalid syntax\n"
     ]
    }
   ],
   "source": [
    "import pandas as pd\n",
    "df = pd.DataFrame({'NAME':G,\n",
    "                   'POS': 12,\n",
    "                   'MIN': 20\n",
    "                  'PTS':1})"
   ]
  },
  {
   "cell_type": "code",
   "execution_count": 17,
   "id": "d5daff7f",
   "metadata": {},
   "outputs": [
    {
     "name": "stdout",
     "output_type": "stream",
     "text": [
      "2\n",
      "0    0.0\n",
      "1    NaN\n",
      "2    2.0\n",
      "3    3.0\n",
      "4    4.0\n",
      "5    NaN\n",
      "6    6.0\n",
      "7    7.0\n",
      "8    8.0\n",
      "9    9.0\n",
      "dtype: float64\n",
      "0    0.0\n",
      "2    2.0\n",
      "3    3.0\n",
      "4    4.0\n",
      "6    6.0\n",
      "7    7.0\n",
      "8    8.0\n",
      "9    9.0\n",
      "dtype: float64\n"
     ]
    }
   ],
   "source": [
    "## Data Cleaning Example\n",
    "import numpy as np\n",
    "import pandas as pd\n",
    "x = np.arange(0, 10)\n",
    "ser = pd.Series(x)\n",
    "ser[1] = np.NaN\n",
    "ser[5] = np.NaN\n",
    "nans = ser.isnull()\n",
    "# count the number of missing values\n",
    "print(nans.sum())\n",
    "print(ser)\n",
    "ser.dropna(inplace=True)\n",
    "print(ser)"
   ]
  },
  {
   "cell_type": "code",
   "execution_count": 18,
   "id": "7539cd1b",
   "metadata": {},
   "outputs": [
    {
     "name": "stdout",
     "output_type": "stream",
     "text": [
      "  Gender AgeGroup  Feature1  Feature2\n",
      "0      F       OA  0.243039  0.794639\n",
      "1      F        A -1.257487 -0.938254\n",
      "2      M       OA  0.822997  1.373264\n",
      "3      F       YA  0.119734  1.239626\n",
      "4      M       YA -0.818178 -1.053088\n",
      "5      M       OA -0.990907 -1.043526\n",
      "6      M        A -0.234247  0.659187\n",
      "7      F       YA -0.596474  0.035162\n",
      "Groups: {'F': [0, 1, 3, 7], 'M': [2, 4, 5, 6]}\n",
      "Female data frame\n",
      "  Gender AgeGroup  Feature1  Feature2\n",
      "0      F       OA  0.243039  0.794639\n",
      "1      F        A -1.257487 -0.938254\n",
      "3      F       YA  0.119734  1.239626\n",
      "7      F       YA -0.596474  0.035162\n",
      "Male data frame\n",
      "  Gender AgeGroup  Feature1  Feature2\n",
      "2      M       OA  0.822997  1.373264\n",
      "4      M       YA -0.818178 -1.053088\n",
      "5      M       OA -0.990907 -1.043526\n",
      "6      M        A -0.234247  0.659187\n",
      "<class 'pandas.core.frame.DataFrame'>\n",
      "True\n"
     ]
    }
   ],
   "source": [
    "import numpy as np\n",
    "import pandas as pd\n",
    "\n",
    "# adapted from http://pandas.pydata.org/pandas-docs/stable/groupby.html\n",
    "df = pd.DataFrame({\"Gender\" : [\"F\", \"F\", \"M\", \"F\", \"M\", \"M\", \"M\", \"F\"],\n",
    "                   \"AgeGroup\" : [\"OA\", \"A\", \"OA\", \"YA\", \"YA\", \"OA\", \"A\", \"YA\"], # OA: older adult, A: adult, YA: young adult\n",
    "                   \"Feature1\" : np.random.randn(8),\n",
    "                   \"Feature2\" : np.random.randn(8)})\n",
    "print(df)\n",
    "# GroupBy object (mapping of group name -> group data frame)\n",
    "gender_groups = df.groupby(\"Gender\")\n",
    "# groups attribute is a dictionary storing the mapping\n",
    "print(\"Groups:\", gender_groups.groups)\n",
    "print(\"Female data frame\")\n",
    "F_df = gender_groups.get_group(\"F\")\n",
    "print(F_df)\n",
    "print(\"Male data frame\")\n",
    "M_df = gender_groups.get_group(\"M\")\n",
    "print(M_df)\n",
    "# confirm M_df is a data frame\n",
    "print(type(M_df))\n",
    "# divided the data frame into 2 groups\n",
    "print(len(df) == len(F_df) + len(M_df))"
   ]
  },
  {
   "cell_type": "code",
   "execution_count": null,
   "id": "441b7b02",
   "metadata": {},
   "outputs": [],
   "source": []
  }
 ],
 "metadata": {
  "kernelspec": {
   "display_name": "Python 3 (ipykernel)",
   "language": "python",
   "name": "python3"
  },
  "language_info": {
   "codemirror_mode": {
    "name": "ipython",
    "version": 3
   },
   "file_extension": ".py",
   "mimetype": "text/x-python",
   "name": "python",
   "nbconvert_exporter": "python",
   "pygments_lexer": "ipython3",
   "version": "3.9.12"
  }
 },
 "nbformat": 4,
 "nbformat_minor": 5
}
