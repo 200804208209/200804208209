{
 "cells": [
  {
   "cell_type": "code",
   "execution_count": 1,
   "id": "44e44220",
   "metadata": {},
   "outputs": [
    {
     "name": "stdout",
     "output_type": "stream",
     "text": [
      "0:)1:)2:)3:)4:)"
     ]
    }
   ],
   "source": [
    "x = 5\n",
    "for i in range(x):\n",
    "    print(i, end=\":)\")"
   ]
  },
  {
   "cell_type": "markdown",
   "id": "2614153d",
   "metadata": {},
   "source": [
    "<img src=\"http://mikemclin.net/mmwp/wp-content/uploads/2013/03/markdown-syntax-language.png\" width=\"300\">"
   ]
  },
  {
   "cell_type": "markdown",
   "id": "3c08c0ac",
   "metadata": {},
   "source": [
    "<h1>This is a header</h1>"
   ]
  },
  {
   "cell_type": "markdown",
   "id": "98bf0afa",
   "metadata": {},
   "source": [
    "## This is a header"
   ]
  },
  {
   "cell_type": "markdown",
   "id": "10da9278",
   "metadata": {},
   "source": [
    "### This is a header"
   ]
  },
  {
   "cell_type": "markdown",
   "id": "0a74669a",
   "metadata": {},
   "source": [
    "#### This is a header"
   ]
  },
  {
   "cell_type": "markdown",
   "id": "010bc989",
   "metadata": {},
   "source": [
    "##### This is a header"
   ]
  },
  {
   "cell_type": "markdown",
   "id": "e5e9b1c9",
   "metadata": {},
   "source": [
    "###### This is a header"
   ]
  },
  {
   "cell_type": "code",
   "execution_count": 6,
   "id": "5ad9326d",
   "metadata": {},
   "outputs": [
    {
     "name": "stdout",
     "output_type": "stream",
     "text": [
      "0, 1, 2, 3, 4, "
     ]
    }
   ],
   "source": [
    "x = 5\n",
    "for i in range(x):\n",
    "    print(i, end=\", \")"
   ]
  },
  {
   "cell_type": "markdown",
   "id": "2dd32eed",
   "metadata": {},
   "source": [
    "$x_{i + 1}$"
   ]
  },
  {
   "cell_type": "markdown",
   "id": "d3963631",
   "metadata": {},
   "source": [
    "$x^{i + 1}$"
   ]
  },
  {
   "cell_type": "markdown",
   "id": "45a0a812",
   "metadata": {},
   "source": [
    "$\\overline{x}$"
   ]
  },
  {
   "cell_type": "markdown",
   "id": "e2d767c3",
   "metadata": {},
   "source": [
    "$\\widehat{x}$"
   ]
  },
  {
   "cell_type": "markdown",
   "id": "6c95cefb",
   "metadata": {},
   "source": [
    "$x'$"
   ]
  },
  {
   "cell_type": "markdown",
   "id": "e669cf6a",
   "metadata": {},
   "source": [
    "$\\pi$   $\\times$   $\\frac{n(n + 1)}{2}$   $\\sqrt{2}$   $\\sum_{n=1}^{\\infty} 2^{-n}$"
   ]
  },
  {
   "cell_type": "markdown",
   "id": "c71f2d7b",
   "metadata": {},
   "source": [
    "$x$$=$$\\frac{-b+\\sqrt{b^2-4ac}{2a}$"
   ]
  },
  {
   "cell_type": "code",
   "execution_count": 25,
   "id": "5771c2ea",
   "metadata": {},
   "outputs": [
    {
     "name": "stdout",
     "output_type": "stream",
     "text": [
      "   Acid durability (seconds)  Strength (kg/square meter) Classification\n",
      "0                          7                           7            Bad\n",
      "1                          7                           4            Bad\n",
      "2                          3                           4           Good\n",
      "3                          1                           4           Good\n"
     ]
    }
   ],
   "source": [
    "# load data\n",
    "import pandas as pd\n",
    "\n",
    "data = [[7, 7, \"Bad\"], [7, 4, \"Bad\"], [3, 4, \"Good\"], [1, 4, \"Good\"]]\n",
    "df = pd.DataFrame(data, columns=[\"Acid durability (seconds)\", \"Strength (kg/square meter)\", \"Classification\"])\n",
    "\n",
    "print(df)"
   ]
  },
  {
   "cell_type": "code",
   "execution_count": 26,
   "id": "9693244e",
   "metadata": {},
   "outputs": [
    {
     "name": "stdout",
     "output_type": "stream",
     "text": [
      "[1. 4.]\n",
      "[7. 7.]\n",
      "[[1.         1.        ]\n",
      " [1.         0.        ]\n",
      " [0.33333333 0.        ]\n",
      " [0.         0.        ]]\n"
     ]
    }
   ],
   "source": [
    "from sklearn.preprocessing import MinMaxScaler\n",
    "\n",
    "X_train = df.drop(\"Classification\", axis=1)\n",
    "y_train = df[\"Classification\"]\n",
    "\n",
    "scaler = MinMaxScaler()\n",
    "scaler.fit(X_train)\n",
    "print(scaler.data_min_)\n",
    "print(scaler.data_max_)\n",
    "\n",
    "X_train_normalized = scaler.transform(X_train)\n",
    "print(X_train_normalized)"
   ]
  },
  {
   "cell_type": "code",
   "execution_count": null,
   "id": "68e88ed0",
   "metadata": {},
   "outputs": [],
   "source": []
  },
  {
   "cell_type": "markdown",
   "id": "be21bc93",
   "metadata": {},
   "source": []
  }
 ],
 "metadata": {
  "kernelspec": {
   "display_name": "Python 3 (ipykernel)",
   "language": "python",
   "name": "python3"
  },
  "language_info": {
   "codemirror_mode": {
    "name": "ipython",
    "version": 3
   },
   "file_extension": ".py",
   "mimetype": "text/x-python",
   "name": "python",
   "nbconvert_exporter": "python",
   "pygments_lexer": "ipython3",
   "version": "3.9.12"
  }
 },
 "nbformat": 4,
 "nbformat_minor": 5
}
